{
 "cells": [
  {
   "cell_type": "code",
   "execution_count": 1,
   "metadata": {},
   "outputs": [],
   "source": [
    "import os\n",
    "import sqlite3\n",
    "from app.helpers import parse_abs_data\n",
    "from app.helpers import extract_citations\n",
    "from app.helpers import insert_new_paper\n",
    "from app.helpers import remove_paper"
   ]
  },
  {
   "cell_type": "code",
   "execution_count": 24,
   "metadata": {},
   "outputs": [],
   "source": [
    "file_path = '/Users/ericweng/Git/CS6400-project/cit-HepTh-abstracts/2001/0101005.abs'\n",
    "file_name = '0101005.abs'\n",
    "with open(file_path, 'r', encoding='utf-8') as file:\n",
    "    abs_data = file.read()\n",
    "    parsed_data = parse_abs_data(abs_data)\n",
    "    # Remove leading zeros from filename\n",
    "    parsed_data['paper_id'] = str(int(file_name.replace('.abs', '')))"
   ]
  },
  {
   "cell_type": "code",
   "execution_count": 25,
   "metadata": {},
   "outputs": [
    {
     "data": {
      "text/plain": [
       "{'paper_id': '101005',\n",
       " 'authors': 'Khaled Saaidi, Mohammad Khorrami',\n",
       " 'title': 'Nonlocal two-dimensional Yang-Mills- and generalized Yang-Mills-theories',\n",
       " 'comments': '13 pages, LaTeX 2.09',\n",
       " 'subj_class': None,\n",
       " 'journal_ref': 'Int.J.Mod.Phys. A15 (2000) 4749-4759',\n",
       " 'abstract': 'A generalization of the two-dimensional Yang-Mills and generalized Yang-Mills\\ntheory is introduced in which the building B-F theory is nonlocal in the\\nauxiliary field. The classical and quantum properties of this nonlocal\\ngeneralization are investigated and it is shown that for large gauge groups,\\nthere exist a simple correspondence between the properties a nonlocal theory\\nand its corresponding local theory.'}"
      ]
     },
     "execution_count": 25,
     "metadata": {},
     "output_type": "execute_result"
    }
   ],
   "source": [
    "parsed_data"
   ]
  },
  {
   "cell_type": "code",
   "execution_count": 26,
   "metadata": {},
   "outputs": [],
   "source": [
    "# Connect to the existing database\n",
    "connection = sqlite3.connect(\"papers.db\")"
   ]
  },
  {
   "cell_type": "code",
   "execution_count": 35,
   "metadata": {},
   "outputs": [
    {
     "name": "stdout",
     "output_type": "stream",
     "text": [
      "('101005', 'Nonlocal two-dimensional Yang-Mills- and generalized Yang-Mills-theories', 'Khaled Saaidi, Mohammad Khorrami', '13 pages, LaTeX 2.09', None, 'Int.J.Mod.Phys. A15 (2000) 4749-4759', 'A generalization of the two-dimensional Yang-Mills and generalized Yang-Mills\\ntheory is introduced in which the building B-F theory is nonlocal in the\\nauxiliary field. The classical and quantum properties of this nonlocal\\ngeneralization are investigated and it is shown that for large gauge groups,\\nthere exist a simple correspondence between the properties a nonlocal theory\\nand its corresponding local theory.', 3, '2000-12-30')\n"
     ]
    }
   ],
   "source": [
    "# Create a cursor object\n",
    "cursor = connection.cursor()\n",
    "paper_id = '101005'\n",
    "query = f\"select * from papers where paper_id = {paper_id};\"\n",
    "# query = f\"select * from citations where from_paper_id = {paper_id};\"\n",
    "# query = f\"select * from co_citations where paper_1_id = {paper_id};\"\n",
    "results = cursor.execute(query)\n",
    "for row in results:\n",
    "    print(row)\n"
   ]
  },
  {
   "cell_type": "code",
   "execution_count": 29,
   "metadata": {},
   "outputs": [],
   "source": [
    "remove_paper(connection, '101005')"
   ]
  },
  {
   "cell_type": "code",
   "execution_count": 30,
   "metadata": {},
   "outputs": [],
   "source": [
    "# Create a cursor object\n",
    "cursor = connection.cursor()\n",
    "\n",
    "paper_id = '101005'\n",
    "# query = f\"select * from papers where paper_id = {paper_id};\"\n",
    "# query = f\"select * from citations where to_paper_id = {paper_id};\"\n",
    "query = f\"select * from co_citations where paper_1_id = {paper_id};\"\n",
    "\n",
    "results = cursor.execute(query)\n",
    "for row in results:\n",
    "    print(row)\n"
   ]
  },
  {
   "cell_type": "code",
   "execution_count": 31,
   "metadata": {},
   "outputs": [
    {
     "name": "stdout",
     "output_type": "stream",
     "text": [
      "['9707081', '9407114', '9608144', '9612018', '9212090', '9204083', '9305047'] ['304068', '202170', '304204']\n"
     ]
    }
   ],
   "source": [
    "citations_from, citations_to = extract_citations(paper_id, '/Users/ericweng/GT/CS6400-project/cit-HepTh.txt')\n",
    "print(citations_from, citations_to)"
   ]
  },
  {
   "cell_type": "code",
   "execution_count": 32,
   "metadata": {},
   "outputs": [],
   "source": [
    "# :param conn: SQLite database connection.\n",
    "# :param paper_metadata: Dictionary containing paper metadata (e.g., paper_id, title, authors, etc.).\n",
    "# :param citations_from: List of papers that this paper cites.\n",
    "# :param citations_to: List of papers that cite this paper.\n",
    "# :param publication_date: Date when the paper was published.\n",
    "\n",
    "insert_new_paper(connection, parsed_data, citations_from, citations_to, '2000-12-30')"
   ]
  },
  {
   "cell_type": "code",
   "execution_count": 13,
   "metadata": {},
   "outputs": [
    {
     "ename": "ProgrammingError",
     "evalue": "Cannot operate on a closed database.",
     "output_type": "error",
     "traceback": [
      "\u001b[0;31m---------------------------------------------------------------------------\u001b[0m",
      "\u001b[0;31mProgrammingError\u001b[0m                          Traceback (most recent call last)",
      "Cell \u001b[0;32mIn[13], line 1\u001b[0m\n\u001b[0;32m----> 1\u001b[0m \u001b[43mconnection\u001b[49m\u001b[38;5;241;43m.\u001b[39;49m\u001b[43mcommit\u001b[49m\u001b[43m(\u001b[49m\u001b[43m)\u001b[49m\n\u001b[1;32m      2\u001b[0m cursor\u001b[38;5;241m.\u001b[39mclose()\n\u001b[1;32m      3\u001b[0m connection\u001b[38;5;241m.\u001b[39mclose()\n",
      "\u001b[0;31mProgrammingError\u001b[0m: Cannot operate on a closed database."
     ]
    }
   ],
   "source": [
    "connection.commit()\n",
    "cursor.close()\n",
    "connection.close()"
   ]
  }
 ],
 "metadata": {
  "kernelspec": {
   "display_name": "cs6400-project",
   "language": "python",
   "name": "python3"
  },
  "language_info": {
   "codemirror_mode": {
    "name": "ipython",
    "version": 3
   },
   "file_extension": ".py",
   "mimetype": "text/x-python",
   "name": "python",
   "nbconvert_exporter": "python",
   "pygments_lexer": "ipython3",
   "version": "3.11.4"
  }
 },
 "nbformat": 4,
 "nbformat_minor": 2
}
