{
 "cells": [
  {
   "cell_type": "code",
   "execution_count": 1,
   "metadata": {},
   "outputs": [],
   "source": [
    "import os\n",
    "import sqlite3\n",
    "import chromadb\n",
    "import ollama\n",
    "from app.helpers import parse_abs_data\n",
    "from app.helpers import extract_citations\n",
    "from app.helpers import insert_new_paper\n",
    "from app.helpers import remove_paper\n",
    "from app.helpers import reconstruct_paper_id\n",
    "from app.helpers import add_document\n",
    "from app.helpers import remove_document\n",
    "import logging\n",
    "\n",
    "logging.basicConfig(level=logging.ERROR)\n"
   ]
  },
  {
   "cell_type": "code",
   "execution_count": 14,
   "metadata": {},
   "outputs": [],
   "source": [
    "file_path = 'cit-HepTh-abstracts/2001/0101005.abs'\n",
    "paper_id = '101005'\n",
    "file_name = '0101005.abs'\n",
    "with open(file_path, 'r', encoding='utf-8') as file:\n",
    "    abs_data = file.read()\n",
    "    parsed_data = parse_abs_data(abs_data)\n",
    "    # Remove leading zeros from filename\n",
    "    parsed_data['paper_id'] = str(int(file_name.replace('.abs', '')))\n",
    "citations_from, citations_to = extract_citations(paper_id, 'cit-HepTh.txt')\n",
    "date = None\n",
    "with open('cit-HepTh-dates.txt','r') as f:\n",
    "    content = f.read().split(\"\\n\")\n",
    "    recon_id = reconstruct_paper_id(paper_id)\n",
    "    for line in content:\n",
    "        if len(line.split(\"\\t\")) != 2:\n",
    "            continue\n",
    "        pap_id, date = line.split(\"\\t\")\n",
    "        if pap_id == recon_id:\n",
    "            break\n"
   ]
  },
  {
   "cell_type": "code",
   "execution_count": 15,
   "metadata": {},
   "outputs": [
    {
     "data": {
      "text/plain": [
       "'2000-12-30'"
      ]
     },
     "execution_count": 15,
     "metadata": {},
     "output_type": "execute_result"
    }
   ],
   "source": [
    "date"
   ]
  },
  {
   "cell_type": "code",
   "execution_count": 16,
   "metadata": {},
   "outputs": [],
   "source": [
    "# Connect to the existing database\n",
    "connection = sqlite3.connect(\"papers.db\")"
   ]
  },
  {
   "cell_type": "code",
   "execution_count": 27,
   "metadata": {},
   "outputs": [
    {
     "name": "stdout",
     "output_type": "stream",
     "text": [
      "('101005', 'Nonlocal two-dimensional Yang-Mills- and generalized Yang-Mills-theories', 'Khaled Saaidi, Mohammad Khorrami', '13 pages, LaTeX 2.09', None, 'Int.J.Mod.Phys. A15 (2000) 4749-4759', 'A generalization of the two-dimensional Yang-Mills and generalized Yang-Mills\\ntheory is introduced in which the building B-F theory is nonlocal in the\\nauxiliary field. The classical and quantum properties of this nonlocal\\ngeneralization are investigated and it is shown that for large gauge groups,\\nthere exist a simple correspondence between the properties a nonlocal theory\\nand its corresponding local theory.', 3, '2000-12-30')\n"
     ]
    }
   ],
   "source": [
    "# Create a cursor object\n",
    "cursor = connection.cursor()\n",
    "query = f\"select * from papers where paper_id = {paper_id};\"\n",
    "# query = f\"select * from citations where from_paper_id = {paper_id};\"\n",
    "# query = f\"select * from co_citations where paper_1_id = {paper_id};\"\n",
    "results = cursor.execute(query)\n",
    "for row in results:\n",
    "    print(row)\n"
   ]
  },
  {
   "cell_type": "code",
   "execution_count": 24,
   "metadata": {},
   "outputs": [
    {
     "name": "stdout",
     "output_type": "stream",
     "text": [
      "Document with paper_id 0101005 removed successfully.\n",
      "Document with paper_id 0101005 removed successfully.\n"
     ]
    }
   ],
   "source": [
    "remove_paper(connection, paper_id)"
   ]
  },
  {
   "cell_type": "code",
   "execution_count": 25,
   "metadata": {},
   "outputs": [
    {
     "data": {
      "text/plain": [
       "{'ids': [],\n",
       " 'embeddings': None,\n",
       " 'documents': [],\n",
       " 'uris': None,\n",
       " 'data': None,\n",
       " 'metadatas': [],\n",
       " 'included': [<IncludeEnum.documents: 'documents'>,\n",
       "  <IncludeEnum.metadatas: 'metadatas'>]}"
      ]
     },
     "execution_count": 25,
     "metadata": {},
     "output_type": "execute_result"
    }
   ],
   "source": [
    "client = chromadb.PersistentClient(path=\"full_data/\")\n",
    "collection_docs = client.get_or_create_collection(name=\"docs\")\n",
    "collection_docs.get('0101005')"
   ]
  },
  {
   "cell_type": "code",
   "execution_count": 22,
   "metadata": {},
   "outputs": [
    {
     "name": "stdout",
     "output_type": "stream",
     "text": [
      "('101005', '11050', 2)\n",
      "('101005', '202170', 1)\n",
      "('101005', '304204', 1)\n",
      "('101005', '8067', 2)\n",
      "('101005', '9204083', 3)\n",
      "('101005', '9212090', 1)\n",
      "('101005', '9212149', 2)\n",
      "('101005', '9301003', 2)\n",
      "('101005', '9301068', 2)\n",
      "('101005', '9305047', 1)\n",
      "('101005', '9310134', 2)\n",
      "('101005', '9407114', 3)\n",
      "('101005', '9408046', 2)\n",
      "('101005', '9410054', 1)\n",
      "('101005', '9606071', 2)\n",
      "('101005', '9608144', 2)\n",
      "('101005', '9612018', 1)\n",
      "('101005', '9707080', 3)\n",
      "('101005', '9707081', 3)\n",
      "('101005', '9807004', 2)\n",
      "('101005', '9910224', 1)\n"
     ]
    }
   ],
   "source": [
    "# Create a cursor object\n",
    "cursor = connection.cursor()\n",
    "# query = f\"select * from papers where paper_id = {paper_id};\"\n",
    "# query = f\"select * from citations where to_paper_id = {paper_id};\"\n",
    "query = f\"select * from co_citations where paper_1_id = {paper_id};\"\n",
    "\n",
    "results = cursor.execute(query)\n",
    "for row in results:\n",
    "    print(row)\n"
   ]
  },
  {
   "cell_type": "code",
   "execution_count": 26,
   "metadata": {},
   "outputs": [
    {
     "name": "stdout",
     "output_type": "stream",
     "text": [
      "Document with paper_id 0101005 added successfully.\n",
      "Document with paper_id 0101005 added successfully.\n"
     ]
    }
   ],
   "source": [
    "# :param conn: SQLite database connection.\n",
    "# :param paper_metadata: Dictionary containing paper metadata (e.g., paper_id, title, authors, etc.).\n",
    "# :param citations_from: List of papers that this paper cites.\n",
    "# :param citations_to: List of papers that cite this paper.\n",
    "# :param publication_date: Date when the paper was published.\n",
    "\n",
    "insert_new_paper(connection, parsed_data, citations_from, citations_to, date)"
   ]
  },
  {
   "cell_type": "code",
   "execution_count": 28,
   "metadata": {},
   "outputs": [],
   "source": [
    "connection.commit()\n",
    "cursor.close()\n",
    "connection.close()"
   ]
  },
  {
   "cell_type": "code",
   "execution_count": 10,
   "metadata": {},
   "outputs": [],
   "source": [
    "# Initialize the client and collections\n",
    "client = chromadb.PersistentClient(path=\"full_data/\")\n",
    "collection_docs = client.get_or_create_collection(name=\"docs\")\n",
    "collection_authors = client.get_or_create_collection(name=\"authors\")\n"
   ]
  },
  {
   "cell_type": "code",
   "execution_count": 11,
   "metadata": {},
   "outputs": [
    {
     "name": "stdout",
     "output_type": "stream",
     "text": [
      "0101005\n"
     ]
    }
   ],
   "source": [
    "paper_id = '101005'\n",
    "paper_id = reconstruct_paper_id(paper_id)\n",
    "print(paper_id)"
   ]
  },
  {
   "cell_type": "code",
   "execution_count": 13,
   "metadata": {},
   "outputs": [
    {
     "name": "stderr",
     "output_type": "stream",
     "text": [
      "Add of existing embedding ID: 0101005\n",
      "Add of existing embedding ID: 0101005\n"
     ]
    },
    {
     "name": "stdout",
     "output_type": "stream",
     "text": [
      "Document with paper_id 0101005 removed successfully.\n",
      "Document with paper_id 0101005 added successfully.\n",
      "Document with paper_id 0101005 removed successfully.\n",
      "Document with paper_id 0101005 added successfully.\n"
     ]
    }
   ],
   "source": [
    "# Example usage\n",
    "# Assuming ollama.embeddings is a function to fetch embeddings\n",
    "response = ollama.embeddings(model=\"mxbai-embed-large\", prompt=parsed_data['abstract'])\n",
    "embedding = response[\"embedding\"]\n",
    "\n",
    "# Remove document if it exists\n",
    "remove_document(collection_docs, paper_id)\n",
    "\n",
    "# Add a new document\n",
    "add_document(collection_docs, paper_id, parsed_data['abstract'], embedding)\n",
    "\n",
    "\n",
    "response = ollama.embeddings(model=\"mxbai-embed-large\", prompt=parsed_data['authors'])\n",
    "embedding = response[\"embedding\"]\n",
    "\n",
    "# Remove document if it exists\n",
    "remove_document(collection_authors, paper_id)\n",
    "\n",
    "# Add a new document\n",
    "add_document(collection_authors, paper_id, parsed_data['authors'], embedding)"
   ]
  }
 ],
 "metadata": {
  "kernelspec": {
   "display_name": "env",
   "language": "python",
   "name": "python3"
  },
  "language_info": {
   "codemirror_mode": {
    "name": "ipython",
    "version": 3
   },
   "file_extension": ".py",
   "mimetype": "text/x-python",
   "name": "python",
   "nbconvert_exporter": "python",
   "pygments_lexer": "ipython3",
   "version": "3.12.5"
  }
 },
 "nbformat": 4,
 "nbformat_minor": 2
}
