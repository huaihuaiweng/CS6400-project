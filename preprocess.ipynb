{
 "cells": [
  {
   "cell_type": "code",
   "execution_count": 28,
   "metadata": {},
   "outputs": [],
   "source": [
    "import os    \n",
    "import pandas as pd\n",
    "import ollama\n",
    "import chromadb"
   ]
  },
  {
   "cell_type": "code",
   "execution_count": 29,
   "metadata": {},
   "outputs": [],
   "source": [
    "def parse_abstract(text):\n",
    "    abs = text.split(\"\\\\\\\\\")[2].strip()\n",
    "    return abs\n"
   ]
  },
  {
   "cell_type": "code",
   "execution_count": 30,
   "metadata": {},
   "outputs": [],
   "source": [
    "ids = []\n",
    "abstracts = []\n",
    "years = [\"1992\",\"1993\",\"1994\"]\n",
    "cnt = 0"
   ]
  },
  {
   "cell_type": "code",
   "execution_count": 31,
   "metadata": {},
   "outputs": [],
   "source": [
    "for folder in os.listdir('cit-HepTh-abstracts'):\n",
    "    if folder==\".DS_Store\":\n",
    "        continue\n",
    "    # if folder not in years:\n",
    "    #     continue\n",
    "    # if cnt > 10:\n",
    "    #     break\n",
    "    for file in os.listdir('cit-HepTh-abstracts/'+folder):\n",
    "        with open('cit-HepTh-abstracts/'+folder+'/'+file) as f:\n",
    "            ids.append(file.split(\".\")[0])\n",
    "            abstracts.append(parse_abstract(f.read()))\n",
    "            # cnt += 1\n",
    "            # if cnt > 10:\n",
    "            #     break\n"
   ]
  },
  {
   "cell_type": "code",
   "execution_count": null,
   "metadata": {},
   "outputs": [],
   "source": []
  },
  {
   "cell_type": "code",
   "execution_count": 37,
   "metadata": {},
   "outputs": [],
   "source": [
    "client = chromadb.PersistentClient(path=\"full_data/\")\n",
    "collection = client.create_collection(name=\"docs\")\n",
    "\n",
    "# store each document in a vector embedding database\n",
    "for i, d in enumerate(abstracts):\n",
    "  response = ollama.embeddings(model=\"mxbai-embed-large\", prompt=d)\n",
    "  embedding = response[\"embedding\"]\n",
    "  collection.add(\n",
    "    ids=[ids[i]],\n",
    "    embeddings=[embedding],\n",
    "    documents=[d]\n",
    "  )\n",
    "  \n"
   ]
  },
  {
   "cell_type": "code",
   "execution_count": 42,
   "metadata": {},
   "outputs": [
    {
     "data": {
      "text/plain": [
       "29555"
      ]
     },
     "execution_count": 42,
     "metadata": {},
     "output_type": "execute_result"
    }
   ],
   "source": [
    "len(abstracts)"
   ]
  },
  {
   "cell_type": "code",
   "execution_count": 43,
   "metadata": {},
   "outputs": [
    {
     "data": {
      "text/plain": [
       "'A quantum theory is developed for a difference-difference system which can\\nserve as a toy-model of the quantum Korteveg-de-Vries equation.'"
      ]
     },
     "execution_count": 43,
     "metadata": {},
     "output_type": "execute_result"
    }
   ],
   "source": [
    "# an example prompt\n",
    "prompt = \"quantum\"\n",
    "\n",
    "# generate an embedding for the prompt and retrieve the most relevant doc\n",
    "response = ollama.embeddings(\n",
    "  prompt=prompt,\n",
    "  model=\"mxbai-embed-large\"\n",
    ")\n",
    "results = collection.query(\n",
    "  query_embeddings=[response[\"embedding\"]],\n",
    "  n_results=10\n",
    ")\n",
    "data = results['documents'][0][0]\n",
    "data"
   ]
  },
  {
   "cell_type": "code",
   "execution_count": 44,
   "metadata": {},
   "outputs": [
    {
     "data": {
      "text/plain": [
       "{'ids': [['9509024',\n",
       "   '9305001',\n",
       "   '9410168',\n",
       "   '9304147',\n",
       "   '0112076',\n",
       "   '9411196',\n",
       "   '9402062',\n",
       "   '9304036',\n",
       "   '9308061',\n",
       "   '9808047']],\n",
       " 'embeddings': None,\n",
       " 'documents': [['A quantum theory is developed for a difference-difference system which can\\nserve as a toy-model of the quantum Korteveg-de-Vries equation.',\n",
       "   'It is shown that it is possible to measure the Schr\\\\\"odinger wave of a single\\nquantum system. This provides a strong argument for associating physical\\nreality with a quantum state of a single system in sharp contrast with the\\nusual approach in which the physical meaning of a quantum state is related only\\nto an ensemble of identical systems. An apparent paradox between measurability\\nof a quantum state of a single system and the relativistic causality is\\nresolved.',\n",
       "   'Quantum measurement theory has fallen under the resticting influence of the\\nattempt to explain the fundamental axioms of quantum theory in terms of the\\ntheory itself. This has not only led to confusion but has also restricted our\\nattention to a limited class of measurements. This paper outlines some of the\\nnovel types of measurements which fall outside the usual textbook description.',\n",
       "   'We show that it is possible to measure Schrodinger wave of a single quantum\\nsystem. This provides a strong argument for associating physical reality with\\nthe quantum state of a single system, and challenges the usual assumption that\\nthe quantum state has physical meaning only for an ensemble of identical\\nsystems.',\n",
       "   'We study the role of context, complex of physical conditions, in quantum as\\nwell as classical experiments. It is shown that by taking into account\\ncontextual dependence of experimental probabilities we can derive the quantum\\nrule for the addition of probabilities of alternatives. Thus we obtain quantum\\ninterference without applying to wave or Hilbert space approach. The Hilbert\\nspace representation of contextual probabilities is obtained as a consequence\\nof the elementary geometric fact: $\\\\cos$-theorem. By using another fact from\\nelementary algebra we obtain complex-amplitude representation of probabilities.\\nFinally, we found contextual origin of noncommutativity of incompatible\\nobservables.',\n",
       "   'Protective measurements yield properties of the quantum state of a single\\nquantum system without affecting the quantum state. A protective measurement\\ninvolves adiabatic coupling to the measuring device together with a procedure\\nto protect the state from changing. For nondegenerate energy eigenstates the\\nprotection is provided by the system itself. In this case it is actually\\npossible to measure the Schr\\\\\"odinger wave via measurements on a single system.\\nThis fact provides an argument in favor of associating physical reality with a\\nquantum state of a single system, challenging the usual ensemble\\ninterpretation. We also believe that the complete description of a quantum\\nsystem requires a two-state vector formalism involving (in addition to the\\nusual one)a future quantum state evolving backwards in time. Protective\\nmeasurements testing the two-state vector reality are constructed.',\n",
       "   \"There are many striking phenomena which are attributed to\\n  ``quantum coherence''. It is natural to wonder if there are new quantum\\ncoherence effects waiting to be discovered which could lead to interesting\\nresults and perhaps even practical applications. A useful starting point for\\nsuch discussions is a definition of ``quantum coherence''. In this article I\\ngive a definition of quantum coherence and use a number of illustrations to\\nexplore the implications of this definition. I point to topics of current\\ninterest in the fields of cosmology and quantum computation where questions of\\nquantum coherence arise, and I emphasize the impact that interactions with the\\nenvironment can have on quantum coherence.\",\n",
       "   \"After reviewing the role of phase in quantum mechanics, I discuss, with the\\naid of a number of unpublished documents, the development of quantum phase\\noperators in the 1960's. Interwoven in the discussion are the critical physics\\nquestions of the field: Are there (unique) quantum phase operators and are\\nthere quantum systems which can determine their nature? I conclude with a\\ncritique of recent proposals which have shed new light on the problem.\",\n",
       "   'Using a simple version of the model for the quantum measurement of a two\\nlevel system, the contention of Aharonov, Anandan, and Vaidman that one must in\\ncertain circumstances give the wavefunction an ontological as well as an\\nepistemological significance is examined. I decide that their argument that the\\nwave function of a system can be measured on a single system fails to establish\\nthe key point and that what they demonstrate is the ontological significance of\\ncertain operators in the theory, with the wave function playing its usual\\nepistemological role.',\n",
       "   'Some explanations and implications of the underlying theory approach for\\nquantum theories (QM or QFT) are discussed and suggested. This simple idea\\nseems to have significantly nontrivial effects for our understanding of the\\nquantum theories.']],\n",
       " 'uris': None,\n",
       " 'data': None,\n",
       " 'metadatas': [[None, None, None, None, None, None, None, None, None, None]],\n",
       " 'distances': [[149.2320098876953,\n",
       "   150.79135131835938,\n",
       "   153.81240844726562,\n",
       "   154.3778533935547,\n",
       "   156.62306213378906,\n",
       "   159.63291931152344,\n",
       "   161.7516632080078,\n",
       "   162.73521423339844,\n",
       "   164.2088623046875,\n",
       "   165.30259704589844]],\n",
       " 'included': [<IncludeEnum.distances: 'distances'>,\n",
       "  <IncludeEnum.documents: 'documents'>,\n",
       "  <IncludeEnum.metadatas: 'metadatas'>]}"
      ]
     },
     "execution_count": 44,
     "metadata": {},
     "output_type": "execute_result"
    }
   ],
   "source": [
    "results"
   ]
  },
  {
   "cell_type": "code",
   "execution_count": null,
   "metadata": {},
   "outputs": [],
   "source": []
  }
 ],
 "metadata": {
  "kernelspec": {
   "display_name": "env",
   "language": "python",
   "name": "python3"
  },
  "language_info": {
   "codemirror_mode": {
    "name": "ipython",
    "version": 3
   },
   "file_extension": ".py",
   "mimetype": "text/x-python",
   "name": "python",
   "nbconvert_exporter": "python",
   "pygments_lexer": "ipython3",
   "version": "3.12.5"
  }
 },
 "nbformat": 4,
 "nbformat_minor": 2
}
