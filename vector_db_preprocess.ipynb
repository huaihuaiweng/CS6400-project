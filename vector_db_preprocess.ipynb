{
 "cells": [
  {
   "cell_type": "code",
   "execution_count": null,
   "metadata": {},
   "outputs": [],
   "source": [
    "import os    \n",
    "import pandas as pd\n",
    "import ollama\n",
    "import chromadb"
   ]
  },
  {
   "cell_type": "code",
   "execution_count": null,
   "metadata": {},
   "outputs": [],
   "source": [
    "def parse(text):\n",
    "    abs = text.split(\"\\\\\\\\\")[2].strip()\n",
    "    auth = text.split(\"\\\\\\\\\")[1].strip().split(\"Comment\")[0].split(\":\")[-1]\n",
    "    return abs,auth\n"
   ]
  },
  {
   "cell_type": "code",
   "execution_count": null,
   "metadata": {},
   "outputs": [],
   "source": [
    "ids = []\n",
    "abstracts = []\n",
    "authors = []"
   ]
  },
  {
   "cell_type": "code",
   "execution_count": null,
   "metadata": {},
   "outputs": [],
   "source": [
    "for folder in os.listdir('cit-HepTh-abstracts'):\n",
    "    if folder==\".DS_Store\":\n",
    "        continue\n",
    "    for file in os.listdir('cit-HepTh-abstracts/'+folder):\n",
    "        with open('cit-HepTh-abstracts/'+folder+'/'+file) as f:\n",
    "            ids.append(file.split(\".\")[0])\n",
    "            abstract, author = parse(f.read())\n",
    "            abstracts.append(abstract)\n",
    "            authors.append(author)\n"
   ]
  },
  {
   "cell_type": "code",
   "execution_count": null,
   "metadata": {},
   "outputs": [],
   "source": [
    "print(authors[:100])"
   ]
  },
  {
   "cell_type": "code",
   "execution_count": null,
   "metadata": {},
   "outputs": [],
   "source": [
    "client = chromadb.PersistentClient(path=\"full_data/\")\n",
    "collection = client.get_or_create_collection(name=\"authors\")\n",
    "\n",
    "for i, d in enumerate(authors):\n",
    "  response = ollama.embeddings(model=\"mxbai-embed-large\", prompt=d)\n",
    "  embedding = response[\"embedding\"]\n",
    "  collection.add(\n",
    "    ids=[ids[i]],\n",
    "    embeddings=[embedding],\n",
    "    documents=[d]\n",
    "  )\n",
    "  \n"
   ]
  },
  {
   "cell_type": "code",
   "execution_count": null,
   "metadata": {},
   "outputs": [],
   "source": [
    "client = chromadb.PersistentClient(path=\"full_data/\")\n",
    "collection = client.get_or_create_collection(name=\"docs\")\n",
    "\n",
    "for i, d in enumerate(abstracts):\n",
    "  response = ollama.embeddings(model=\"mxbai-embed-large\", prompt=d)\n",
    "  embedding = response[\"embedding\"]\n",
    "  collection.add(\n",
    "    ids=[ids[i]],\n",
    "    embeddings=[embedding],\n",
    "    documents=[d]\n",
    "  )\n",
    "  \n"
   ]
  },
  {
   "cell_type": "code",
   "execution_count": null,
   "metadata": {},
   "outputs": [],
   "source": [
    "len(abstracts)"
   ]
  },
  {
   "cell_type": "code",
   "execution_count": null,
   "metadata": {},
   "outputs": [],
   "source": [
    "client = chromadb.PersistentClient(path=\"full_data/\")\n",
    "collection = client.get_collection(name=\"docs\")\n",
    "\n",
    "prompt = \"\"\"  Effective world-brane actions for solitons of ten-dimensional type IIA and\n",
    "IIB superstring theory are derived using the formulation of solitons as\n",
    "Dirichlet branes. The one-brane actions are used to recover predictions of\n",
    "SL(2,Z) strong-weak coupling duality. The two-brane action, which contains a\n",
    "hidden eleventh target space coordinate, is shown to be the eleven-dimensional\n",
    "supermembrane action. It can be thought of as the membrane action of\n",
    "`M-theory'.\"\"\"\n",
    "\n",
    "response = ollama.embeddings(\n",
    "  prompt=prompt,\n",
    "  model=\"mxbai-embed-large\"\n",
    ")\n",
    "results = collection.query(\n",
    "  query_embeddings=[response[\"embedding\"]],\n",
    "  n_results=3,\n",
    ")\n",
    "data = results['documents'][0][0]\n",
    "data"
   ]
  },
  {
   "cell_type": "code",
   "execution_count": null,
   "metadata": {},
   "outputs": [],
   "source": []
  }
 ],
 "metadata": {
  "kernelspec": {
   "display_name": "env",
   "language": "python",
   "name": "python3"
  },
  "language_info": {
   "codemirror_mode": {
    "name": "ipython",
    "version": 3
   },
   "file_extension": ".py",
   "mimetype": "text/x-python",
   "name": "python",
   "nbconvert_exporter": "python",
   "pygments_lexer": "ipython3",
   "version": "3.12.5"
  }
 },
 "nbformat": 4,
 "nbformat_minor": 2
}
