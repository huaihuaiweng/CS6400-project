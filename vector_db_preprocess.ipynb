{
 "cells": [
  {
   "cell_type": "code",
   "execution_count": 9,
   "metadata": {},
   "outputs": [],
   "source": [
    "import os    \n",
    "import pandas as pd\n",
    "import ollama\n",
    "import chromadb"
   ]
  },
  {
   "cell_type": "code",
   "execution_count": 10,
   "metadata": {},
   "outputs": [],
   "source": [
    "def parse(text):\n",
    "    abs = text.split(\"\\\\\\\\\")[2].strip()\n",
    "    auth = text.split(\"\\\\\\\\\")[1].strip().split(\"Comment\")[0].split(\":\")[-1]\n",
    "    return abs,auth\n"
   ]
  },
  {
   "cell_type": "code",
   "execution_count": 11,
   "metadata": {},
   "outputs": [],
   "source": [
    "ids = []\n",
    "abstracts = []\n",
    "authors = []"
   ]
  },
  {
   "cell_type": "code",
   "execution_count": 13,
   "metadata": {},
   "outputs": [],
   "source": [
    "for folder in os.listdir('cit-HepTh-abstracts'):\n",
    "    if folder==\".DS_Store\":\n",
    "        continue\n",
    "    for file in os.listdir('cit-HepTh-abstracts/'+folder):\n",
    "        with open('cit-HepTh-abstracts/'+folder+'/'+file) as f:\n",
    "            ids.append(file.split(\".\")[0])\n",
    "            abstract, author = parse(f.read())\n",
    "            abstracts.append(abstract)\n",
    "            authors.append(author)\n"
   ]
  },
  {
   "cell_type": "code",
   "execution_count": 14,
   "metadata": {},
   "outputs": [
    {
     "name": "stdout",
     "output_type": "stream",
     "text": [
      "[' Clifford V. Johnson\\n', ' C.Bachas\\n', ' S.L. Adler, G.V. Bhanot, J.D. Weckel\\n', ' S. Hosono, A. Klemm, S. Theisen\\n', ' M. A. Clayton, L. Demopoulos, J. W. Moffat\\n', ' E. Elizalde, S. Naftulin and S.D. Odintsov\\n', ' Rinat Kedem, Barry M. McCoy, and Ezer Melzer\\n', ' T. Kobayashi\\n', ' John Harnad\\n', ' Preeti Parashar\\n', ' Bernhard Meister\\n', ' Jouko Mickelsson\\n', ' H.B. Gao and H. R\\\\\"omer\\n', ' M. A. Semenov-Tian-Shansky\\n', \" Denjoe O'Connor and C. R. Stephens\\n\", ' Atushi Ishikawa\\n', ' E. Bergshoeff, J. de Boer, M. de Roo and T. Tjin\\n', ' M. Asorey, S. Carlip, and F. Falceto\\n', ' Yao-Zhong Zhang and Mark D. Gould\\n', \" I. Ya. Aref'eva and G. E. Arutyunov\\n\", ' Kiyoshi Ezawa\\n', ' I. Jack, D. R. T. Jones and J. Panvel\\n', ' Lev Vaidman\\n', ' C.M. Hull, G. Papadopoulos and P.K. Townsend\\n', ' W. Lerche\\n', ' H.J. de Vega and I.L. Egusquiza\\n', ' Robert Marnelius\\n', ' Stefano Panzeri\\n', ' Avshalom C. Elitzur and Lev Vaidman\\n', ' B. Harms and Y. Leblanc\\n', ' M. Temple-Raston\\n', ' Ted Jacobson and Robert C. Myers\\n', ' C.Kobdaj and S.Thomas\\n', ' Malcolm J. Perry and Edward Teo\\n', ' L. Brink, T.H. Hansson, S. Konstein and M.A. Vasiliev\\n', ' D.V.Boulatov\\n', ' Galen Sotkov and Marian Stanishkov\\n', ' Franco Ferrari\\n', ' A.A.Tseytlin\\n', ' Anthony J. Bracken, Mark D. Gould and Yao-Zhong Zhang\\n', ' Ted Jacobson\\n', \" J.L. Cort\\\\'es, J. Gamboa and L. Vel\\\\'azquez\\n\", ' Jiang-Bei Fan and Ming Yu\\n', ' Michele Maggiore\\n', ' Sergey Fomin, Anatol N. Kirillov\\n', ' J\\\\\"urgen Fuchs\\n', ' C.Gomez and G.Sierra\\n', ' M. Cadoni\\n', ' R. Brustein, M. Faux and B. Ovrut\\n', ' Thomas Portmann\\n', ' Christian Grosche\\n', ' Takanori Fujiwara, Yuji Igarashi and Jisuke Kubo\\n', ' H. Lu, C.N. Pope, S. Schrans and X.J. Wang\\n', ' O. Coussaert and M. Henneaux\\n', ' Samir D. Mathur\\n', ' Esa Karjalainen\\n', ' Nobuyoshi Ohta and Hisao Suzuki\\n', ' Renata Kallosh and Tomas Ortin\\n', ' A. Cappelli, C. A. Trugenberger and G. R. Zemba\\n', ' C.P.Korthals\\n', ' Ch. Devchand and A.N. Leznov\\n', ' M. Cavicchi, P. Di Vecchia and I. Pesando\\n', ' G.K.Savvidy and F.J.Wegner\\n', ' I. Jack, D. R. T. Jones and J. Panvel\\n', ' ', ' A. Stern and I. Yakushin\\n', ' D.M.Gitman and Sh.M. Shvartsman (Institute of Physics University of\\n  S\\\\~ao Paulo, Brasil; Dept. of Physics, Case Western Reserve University,\\n  Cleveland, USA)\\n', ' Y. Kazama and Y. Satoh\\n', ' Jiang-Bei Fan and Ming Yu (CCAST and Institute of Theoretical Physics,\\n  Academia Sinica)\\n', ' Antero Hietam\\\\\"aki\\n', ' M. J. Duff and J. X. Lu\\n', ' S. Mignemi\\n', ' G. Mussardo and P. Simonetti\\n', ' Farhad Ardalan\\n', ' Michele Maggiore\\n', ' Bergfinnur Durhuus and Thordur Jonsson\\n', ' Sumit R. Das\\n', ' L.Bonora and C.S.Xiong\\n', ' Erik Verlinde and Herman Verlinde\\n', ' H. Awata, S. Odake and J. Shiraishi\\n', ' A.A.Tseytlin\\n', ' Paul Fendley and Ken Intriligator\\n', ' D. Bailin, A. Love and W.A. Sabra\\n', ' M. Leblanc, R. MacKenzie, P.K.Panigrahi, and R. Ray\\n', ' Neil Marcus and Yaron Oz (U of Tel-Aviv)\\n', ' Robert Marnelius\\n', ' John Palmer, Morris Beatty, Craig A. Tracy\\n', ' Takayuki Hori and Masaru Kamata\\n', ' Michele Maggiore\\n', ' E.Quattrini, F.Ravanini and R.Tateo\\n', ' A.H. Chamseddine and J. Fr\\\\\"ohlich\\n', ' A. Kovner and P. S. Kurzepa\\n', ' A.J. Niemi and P. Pasanen\\n', ' V.V. Nesterenko\\n', ' Mirjam Cvetic\\n', ' H. Nishino\\n', ' H. Aratyn, C.P. Constantinidis, L.A. Ferreira, J.F. Gomes and A.H.\\n  Zimerman\\n', ' G. Grignani and G. Nardelli\\n', ' Sunil Mukhi\\n', ' Martin Lavelle and David McMullan\\n']\n"
     ]
    }
   ],
   "source": [
    "print(authors[:100])"
   ]
  },
  {
   "cell_type": "code",
   "execution_count": 72,
   "metadata": {},
   "outputs": [],
   "source": [
    "client = chromadb.PersistentClient(path=\"full_data/\")\n",
    "collection = client.get_collection(name=\"authors\")\n",
    "\n",
    "# store each document in a vector embedding database\n",
    "for i, d in enumerate(authors):\n",
    "  response = ollama.embeddings(model=\"mxbai-embed-large\", prompt=d)\n",
    "  embedding = response[\"embedding\"]\n",
    "  collection.add(\n",
    "    ids=[ids[i]],\n",
    "    embeddings=[embedding],\n",
    "    documents=[d]\n",
    "  )\n",
    "  \n"
   ]
  },
  {
   "cell_type": "code",
   "execution_count": 37,
   "metadata": {},
   "outputs": [],
   "source": [
    "client = chromadb.PersistentClient(path=\"full_data/\")\n",
    "collection = client.create_collection(name=\"docs\")\n",
    "\n",
    "# store each document in a vector embedding database\n",
    "for i, d in enumerate(abstracts):\n",
    "  response = ollama.embeddings(model=\"mxbai-embed-large\", prompt=d)\n",
    "  embedding = response[\"embedding\"]\n",
    "  collection.add(\n",
    "    ids=[ids[i]],\n",
    "    embeddings=[embedding],\n",
    "    documents=[d]\n",
    "  )\n",
    "  \n"
   ]
  },
  {
   "cell_type": "code",
   "execution_count": 15,
   "metadata": {},
   "outputs": [
    {
     "data": {
      "text/plain": [
       "29555"
      ]
     },
     "execution_count": 15,
     "metadata": {},
     "output_type": "execute_result"
    }
   ],
   "source": [
    "len(abstracts)"
   ]
  },
  {
   "cell_type": "code",
   "execution_count": 21,
   "metadata": {},
   "outputs": [
    {
     "data": {
      "text/plain": [
       "\"Effective world-brane actions for solitons of ten-dimensional type IIA and\\nIIB superstring theory are derived using the formulation of solitons as\\nDirichlet branes. The one-brane actions are used to recover predictions of\\nSL(2,Z) strong-weak coupling duality. The two-brane action, which contains a\\nhidden eleventh target space coordinate, is shown to be the eleven-dimensional\\nsupermembrane action. It can be thought of as the membrane action of\\n`M-theory'.\""
      ]
     },
     "execution_count": 21,
     "metadata": {},
     "output_type": "execute_result"
    }
   ],
   "source": [
    "client = chromadb.PersistentClient(path=\"full_data/\")\n",
    "collection = client.get_collection(name=\"docs\")\n",
    "\n",
    "# an example prompt\n",
    "prompt = \"\"\"  Effective world-brane actions for solitons of ten-dimensional type IIA and\n",
    "IIB superstring theory are derived using the formulation of solitons as\n",
    "Dirichlet branes. The one-brane actions are used to recover predictions of\n",
    "SL(2,Z) strong-weak coupling duality. The two-brane action, which contains a\n",
    "hidden eleventh target space coordinate, is shown to be the eleven-dimensional\n",
    "supermembrane action. It can be thought of as the membrane action of\n",
    "`M-theory'.\"\"\"\n",
    "\n",
    "# generate an embedding for the prompt and retrieve the most relevant doc\n",
    "response = ollama.embeddings(\n",
    "  prompt=prompt,\n",
    "  model=\"mxbai-embed-large\"\n",
    ")\n",
    "results = collection.query(\n",
    "  query_embeddings=[response[\"embedding\"]],\n",
    "  n_results=10,\n",
    ")\n",
    "data = results['documents'][0][0]\n",
    "data"
   ]
  }
 ],
 "metadata": {
  "kernelspec": {
   "display_name": "env",
   "language": "python",
   "name": "python3"
  },
  "language_info": {
   "codemirror_mode": {
    "name": "ipython",
    "version": 3
   },
   "file_extension": ".py",
   "mimetype": "text/x-python",
   "name": "python",
   "nbconvert_exporter": "python",
   "pygments_lexer": "ipython3",
   "version": "3.12.5"
  }
 },
 "nbformat": 4,
 "nbformat_minor": 2
}
