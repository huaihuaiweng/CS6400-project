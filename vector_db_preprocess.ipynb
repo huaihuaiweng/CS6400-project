{
 "cells": [
  {
   "cell_type": "code",
   "execution_count": 9,
   "metadata": {},
   "outputs": [],
   "source": [
    "import os    \n",
    "import pandas as pd\n",
    "import ollama\n",
    "import chromadb"
   ]
  },
  {
   "cell_type": "code",
   "execution_count": 10,
   "metadata": {},
   "outputs": [],
   "source": [
    "def parse(text):\n",
    "    abs = text.split(\"\\\\\\\\\")[2].strip()\n",
    "    auth = text.split(\"\\\\\\\\\")[1].strip().split(\"Comment\")[0].split(\":\")[-1]\n",
    "    return abs,auth\n"
   ]
  },
  {
   "cell_type": "code",
   "execution_count": 11,
   "metadata": {},
   "outputs": [],
   "source": [
    "ids = []\n",
    "abstracts = []\n",
    "authors = []"
   ]
  },
  {
   "cell_type": "code",
   "execution_count": 12,
   "metadata": {},
   "outputs": [
    {
     "ename": "FileNotFoundError",
     "evalue": "[Errno 2] No such file or directory: 'cit-HepTh-abstracts'",
     "output_type": "error",
     "traceback": [
      "\u001b[0;31m---------------------------------------------------------------------------\u001b[0m",
      "\u001b[0;31mFileNotFoundError\u001b[0m                         Traceback (most recent call last)",
      "Cell \u001b[0;32mIn[12], line 1\u001b[0m\n\u001b[0;32m----> 1\u001b[0m \u001b[38;5;28;01mfor\u001b[39;00m folder \u001b[38;5;129;01min\u001b[39;00m \u001b[43mos\u001b[49m\u001b[38;5;241;43m.\u001b[39;49m\u001b[43mlistdir\u001b[49m\u001b[43m(\u001b[49m\u001b[38;5;124;43m'\u001b[39;49m\u001b[38;5;124;43mcit-HepTh-abstracts\u001b[39;49m\u001b[38;5;124;43m'\u001b[39;49m\u001b[43m)\u001b[49m:\n\u001b[1;32m      2\u001b[0m     \u001b[38;5;28;01mif\u001b[39;00m folder\u001b[38;5;241m==\u001b[39m\u001b[38;5;124m\"\u001b[39m\u001b[38;5;124m.DS_Store\u001b[39m\u001b[38;5;124m\"\u001b[39m:\n\u001b[1;32m      3\u001b[0m         \u001b[38;5;28;01mcontinue\u001b[39;00m\n",
      "\u001b[0;31mFileNotFoundError\u001b[0m: [Errno 2] No such file or directory: 'cit-HepTh-abstracts'"
     ]
    }
   ],
   "source": [
    "for folder in os.listdir('cit-HepTh-abstracts'):\n",
    "    if folder==\".DS_Store\":\n",
    "        continue\n",
    "    for file in os.listdir('cit-HepTh-abstracts/'+folder):\n",
    "        with open('cit-HepTh-abstracts/'+folder+'/'+file) as f:\n",
    "            ids.append(file.split(\".\")[0])\n",
    "            abstract, author = parse(f.read())\n",
    "            abstracts.append(abstract)\n",
    "            authors.append(author)\n"
   ]
  },
  {
   "cell_type": "code",
   "execution_count": 7,
   "metadata": {},
   "outputs": [
    {
     "name": "stdout",
     "output_type": "stream",
     "text": [
      "[' M{\\\\aa}ns Henningson and Chiara R. Nappi\\n', ' Abbas Ali and Alok Kumar\\n', ' Phys.Lett. B302 (1993) 396-402', ' K. Demeterfi and I. R. Klebanov\\n', ' F.W. Nijhoff and H.W. Capel\\n', ' Joseph A. Minahan\\n', ' I. Antoniadis, P.O. Mazur and E. Mottola\\n', ' G.K.Savvidy and K.G.Savvidy\\n', ' Yi-Zhi Huang and James Lepowsky\\n', ' Donald Spector\\n', ' G. Bonneau, G. Valent\\n', ' R. Jackiw, Q. Liu and C. Lucchesi\\n', ' Jorge Ananias Neto\\n', ' R. Brooks and C. Lucchesi\\n', ' S. Kharchev, A.Marshakov\\n', ' Wolfram Boenkost\\n', ' T. Curtright and C. Zachos\\n', ' A. Anderson, B.E.W. Nilsson, C.N. Pope and K.S. Stelle\\n', ' S. De Leo and P. Rotelli\\n', ' Subir Ghoshal\\n', ' Robert Marnelius,Ulrich Quaade\\n', ' M.A. de Andrade and O.M. Del Cima\\n', ' Fuad Saradzhev\\n', ' M. R\\\\\"osgen, R. Varnhagen\\n', ' Igor Batalin,Robert Marnelius\\n', ' J.Karkowski, Z.Swierczynski, P.Wegrzyn\\n', \" Zala'n Horva'th and Ga'bor Taka'cs\\n\", ' Geoffrey Dixon\\n', ' Pawel Wegrzyn\\n', ' Ramesh Abhiraman and Charles M. Sommerfield, Yale University.\\n', ' Igor R. Klebanov\\n', ' Nathan Berkovits\\n', ' Denis Bernard\\n', ' Mirjam Cvetic, Stephen Griffies, Soo-Jong Rey\\n', ' Robbert Dijkgraaf\\n', ' F.Bonechi, E.Celeghini, R.Giachetti, E.Sorace and M.Tarlini\\n', ' C. Itzykson and J.-B. Zuber\\n', ' Eva Silverstein\\n', ' Satoshi Matsuda\\n', ' Khaled Saaidi, Mohammad Khorrami\\n', ' ', ' E. G. Vorontsova, G. S. Sharov\\n', ' Arshad Momen (Dhaka Univ.) and G. Dastegir Al-Quaderi (Dhaka Univ.)\\n', ' Klaus Behrndt,Mirjam Cvetic\\n', \" Shin'ichi Nojiri, Octavio Obregon, Sergei D. Odintsov, and Vladimir I.\\n  Tkach\\n\", ' Takao Suyama\\n', ' Z. Guralnik and S. Ramgoolam\\n', ' D. V. Ahluwalia, M. Kirchbach\\n', ' C.N.Ferreira (CBPF/CCP), M.B.D.S.M.Porto (CBPF/CCP and Ufrrj) and\\n  J.A.Helayel-Neto (CBPF/CCP and Ucp/GFT)\\n', ' J. Fuchs, C. Schweigert\\n', ' Adam D. Helfer\\n', ' A.V. Belitsky, S. Vandoren, P. van Nieuwenhuizen\\n', ' Rudolf Haag\\n', ' Sheng Li, Yong Zhang and Zhongyuan Zhu\\n', ' ', ' M. Cvetic, H. Lu and C.N. Pope\\n', ' Paul S. Aspinwall\\n', ' Gouranga C. Nayak and Walter Greiner\\n', ' Donald Spector\\n', ' T. Kitao, S. Terashima and S.-K. Yang\\n', ' John H. Schwarz\\n', ' A. Ferrando (1 and 2), A. Jaramillo (1) and S. Shabanov (1). ((1)\\n  Valencia U., (2) MIT)\\n', ' Y. Kikukawa (1), R. Narayanan (2), H. Neuberger (1) ((1) Rutgers, (2)\\n  U. of Washington)\\n', ' Detlev Buchholz and Izumi Ojima\\n', ' M. I. Caicedo, I. Martin and A. Restuccia\\n', ' John M. Cornwall (UCLA)\\n', ' M. Zyskin', ' Jules Beckers\\n', ' ', ' Jose D. Edelstein and Javier Mas\\n', ' Victoria Fernandez, Kang Li and Carlos Naon\\n', ' Ralph Blumenhagen\\n', ' John R. Klauder\\n', ' Sumit R. Das\\n', ' Yosuke Imamura\\n', ' E. Ivanov, S. Krivonos\\n', ' M. Cvetic, H. Lu, C.N. Pope and T.A Tran\\n', ' Ron Donagi, Andre Lukas, Burt A. Ovrut, Daniel Waldram\\n', ' Nakwoo Kim\\n', ' A. N. Mitra and R. Ramanathan\\n', ' Scott Thomas\\n', ' Jifeng Yang (Fudan Univ., Shanghai, P. R. China)\\n', ' Jifeng Yang and Guang-jiong Ni\\n', ' Tohru Eguchi and Chuan-Sheng Xiong\\n', ' V.G. Kiselev (Institute of Medicine, Research Centre Juelich, Germany)\\n  and Ya.M. Shnir (DAMTP, University of Cambridge, UK)\\n', ' Fabio Zwirner (INFN,Padua)\\n', ' Karl Landsteiner, Esperanza Lopez and David A. Lowe\\n', ' Nathan Berkovits (IFT/UNESP, Sao Paulo)\\n', ' Ram Brustein\\n', ' Pijush K. Ghosh\\n', ' V.A. Kudryavtsev and G.Weidl\\n', ' Giampiero Esposito, Alexander Yu. Kamenshchik, Giuseppe Pollifrone\\n', ' Adel Bilal (ENS Paris)\\n', ' M.A.Soloviev\\n', ' Gary T. Horowitz, Tsukasa Tada\\n', ' Klaus Behrndt, Renata Kallosh\\n', ' G. von Gehlen\\n', ' Christof Schmidhuber\\n', ' W. Siegel\\n', ' B. C. Paul, S. Mukherjee and R. Tavakol\\n']\n"
     ]
    }
   ],
   "source": [
    "print(authors[:100])"
   ]
  },
  {
   "cell_type": "code",
   "execution_count": 72,
   "metadata": {},
   "outputs": [],
   "source": [
    "client = chromadb.PersistentClient(path=\"full_data/\")\n",
    "collection = client.get_collection(name=\"authors\")\n",
    "\n",
    "# store each document in a vector embedding database\n",
    "for i, d in enumerate(authors):\n",
    "  response = ollama.embeddings(model=\"mxbai-embed-large\", prompt=d)\n",
    "  embedding = response[\"embedding\"]\n",
    "  collection.add(\n",
    "    ids=[ids[i]],\n",
    "    embeddings=[embedding],\n",
    "    documents=[d]\n",
    "  )\n",
    "  \n"
   ]
  },
  {
   "cell_type": "code",
   "execution_count": 37,
   "metadata": {},
   "outputs": [],
   "source": [
    "client = chromadb.PersistentClient(path=\"full_data/\")\n",
    "collection = client.create_collection(name=\"docs\")\n",
    "\n",
    "# store each document in a vector embedding database\n",
    "for i, d in enumerate(abstracts):\n",
    "  response = ollama.embeddings(model=\"mxbai-embed-large\", prompt=d)\n",
    "  embedding = response[\"embedding\"]\n",
    "  collection.add(\n",
    "    ids=[ids[i]],\n",
    "    embeddings=[embedding],\n",
    "    documents=[d]\n",
    "  )\n",
    "  \n"
   ]
  },
  {
   "cell_type": "code",
   "execution_count": 8,
   "metadata": {},
   "outputs": [
    {
     "data": {
      "text/plain": [
       "119"
      ]
     },
     "execution_count": 8,
     "metadata": {},
     "output_type": "execute_result"
    }
   ],
   "source": [
    "len(abstracts)"
   ]
  },
  {
   "cell_type": "code",
   "execution_count": 21,
   "metadata": {},
   "outputs": [
    {
     "data": {
      "text/plain": [
       "\"Effective world-brane actions for solitons of ten-dimensional type IIA and\\nIIB superstring theory are derived using the formulation of solitons as\\nDirichlet branes. The one-brane actions are used to recover predictions of\\nSL(2,Z) strong-weak coupling duality. The two-brane action, which contains a\\nhidden eleventh target space coordinate, is shown to be the eleven-dimensional\\nsupermembrane action. It can be thought of as the membrane action of\\n`M-theory'.\""
      ]
     },
     "execution_count": 21,
     "metadata": {},
     "output_type": "execute_result"
    }
   ],
   "source": [
    "client = chromadb.PersistentClient(path=\"full_data/\")\n",
    "collection = client.get_collection(name=\"docs\")\n",
    "\n",
    "# an example prompt\n",
    "prompt = \"\"\"  Effective world-brane actions for solitons of ten-dimensional type IIA and\n",
    "IIB superstring theory are derived using the formulation of solitons as\n",
    "Dirichlet branes. The one-brane actions are used to recover predictions of\n",
    "SL(2,Z) strong-weak coupling duality. The two-brane action, which contains a\n",
    "hidden eleventh target space coordinate, is shown to be the eleven-dimensional\n",
    "supermembrane action. It can be thought of as the membrane action of\n",
    "`M-theory'.\"\"\"\n",
    "\n",
    "# generate an embedding for the prompt and retrieve the most relevant doc\n",
    "response = ollama.embeddings(\n",
    "  prompt=prompt,\n",
    "  model=\"mxbai-embed-large\"\n",
    ")\n",
    "results = collection.query(\n",
    "  query_embeddings=[response[\"embedding\"]],\n",
    "  n_results=10,\n",
    ")\n",
    "data = results['documents'][0][0]\n",
    "data"
   ]
  },
  {
   "cell_type": "code",
   "execution_count": 24,
   "metadata": {},
   "outputs": [
    {
     "data": {
      "text/plain": [
       "{'ids': [['9601003',\n",
       "   '9603116',\n",
       "   '9609004',\n",
       "   '9804076',\n",
       "   '0301223',\n",
       "   '9512062',\n",
       "   '9703118',\n",
       "   '9804051',\n",
       "   '9501068',\n",
       "   '9602112']],\n",
       " 'embeddings': None,\n",
       " 'documents': [[\"Effective world-brane actions for solitons of ten-dimensional type IIA and\\nIIB superstring theory are derived using the formulation of solitons as\\nDirichlet branes. The one-brane actions are used to recover predictions of\\nSL(2,Z) strong-weak coupling duality. The two-brane action, which contains a\\nhidden eleventh target space coordinate, is shown to be the eleven-dimensional\\nsupermembrane action. It can be thought of as the membrane action of\\n`M-theory'.\",\n",
       "   \"String and membrane dynamics may be unified into a theory of 2+2 dimensional\\nself-dual world-volumes living in a 10+2 dimensional target space. Some of the\\nvacua of this M-theory are described by the N=(2,1) heterotic string, whose\\ntarget space theory describes the world-volume dynamics of 2+2 dimensional\\n`M-branes'. All classes of string and membrane theories are realized as\\nparticular vacua of the N=(2,1) string: Type IIA/B strings and supermembranes\\narise in the standard moduli space of toroidal compactifications, while type\\n${\\\\rm I}'$ and heterotic strings arise from a $\\\\bf Z_2$ orbifold of the N=2\\nalgebra. Yet another vacuum describes M-theory on a ${\\\\bf T}^5/{\\\\bf Z}_2$\\norientifold, the type I string on $ {\\\\bf T}^4$, and the six-dimensional\\nself-dual string. We find that open membranes carry `Chan-Paton fields' on\\ntheir boundaries, providing a common origin for gauge symmetries in M-theory.\\nThe world-volume interactions of M-brane fluctuations agree with those of\\nBorn-Infeld effective dynamics of the Dirichlet two-brane in the presence of a\\nnon-vanishing electromagnetic field on the brane.\",\n",
       "   'Taking the (2,2) strings as a starting point, we discuss the equivalent\\nintegrable field theories and analyze their symmetry structure in 2+2\\ndimensions from the viewpoint of string/membrane unification. Requiring the\\nLorentz invariance and supersymmetry in the (2,2) string target space leads to\\nan extension of the (2,2) string theory to a theory of 2+2 dimensional\\nsupermembranes (M-branes) propagating in a higher dimensional target space. The\\norigin of the hidden target space dimensions of the M-brane is related to the\\nmaximally extended supersymmetry implied by the Lorentz covariance and\\ndimensional reasons. The K\"ahler-Chern-Simons-type action describing the\\nself-dual gravity in 2+2 dimensions is proposed. Its maximal supersymmetric\\nextension (of the Green-Schwarz-type) naturally leads to the 2+10 (or higher)\\ndimensions for the M-brane target space. The proposed OSp(32|1) supersymmetric\\naction gives the pre-geometrical description of M-branes, which may be useful\\nfor a fundamental formulation of F&M theory.',\n",
       "   'We derive the complete covariant action for the type IIA superstring in a\\nsimple D=10 background which represents a 7-brane with a magnetic Ramond-Ramond\\nvector field (and is U-dual to the Kaluza-Klein Melvin solution). This curved\\nbackground can be obtained by dimensional reduction from a flat (but\\ntopologically non-trivial) D=11 space-time. The action of a supermembrane\\npropagating in this flat D=11 space is straightforward to write down. The\\nexplicit form of the superstring action is then obtained by double dimensional\\nreduction of the supermembrane action. In the light-cone gauge the action\\ncontains only quadratic and quartic terms in fermions.',\n",
       "   'We examine the extent to which the action for the membrane of M-theory (the\\neleven-dimensional construct which underlies and unifies all of the known\\nstring theories) simplifies in the so-called Open Membrane (OM) limit, a limit\\nwhich lies at the root of the various manifestations of noncommutativity in the\\nstring context. In order for the discussion to be relatively self-contained, we\\nstart out by reviewing why the strings of ten-dimensional string theory are in\\nfact membranes (M2-branes) living in eleven dimensions. After that, we recall\\nthe definition of OM theory, as well as the arguments showing that it is part\\nof a larger, eleven-dimensional structure known as Galilean or Wrapped M2-brane\\n(WM2) theory. WM2 theory is a rich theoretical construct which is interesting\\nfor several reasons, in particular because it is essentially a toy model of\\nM-theory. We then proceed to deduce a membrane action for OM/WM2 theory, and\\nspell out its implications for the four different types of M2-branes one can\\nconsider in this setting. For two of these types, the action in question can be\\nsimplified by gauge-fixing to a form which implies a discrete membrane\\nspectrum. The boundary conditions for the remaining two cases do not allow this\\nsame gauge choice, and so their dynamics remain to be unraveled.',\n",
       "   \"The 2-brane and 4-brane solutions of ten dimensional IIA supergravity have a\\ndual interpretation as Dirichlet-branes, or `D-branes', of type IIA superstring\\ntheory and as `M-branes' of an $S^1$-compactified eleven dimensional\\nsupermembrane theory, or M-theory. This eleven-dimensional connection is used\\nto determine the ten-dimensional Lorentz covariant worldvolume action for the\\nDirichlet super 2-brane, and its coupling to background spacetime fields. It is\\nfurther used to show that the 2-brane can carry the Ramond-Ramond charge of the\\nDirichlet 0-brane as a topological charge, and an interpretation of the 2-brane\\nas a 0-brane condensate is suggested. Similar results are found for the\\nDirichlet 4-brane via its interpretation as a double-dimensional reduction of\\nthe eleven-dimensional fivebrane. It is suggested that the latter be\\ninterpreted as a D-brane of an open eleven-dimensional supermembrane.\",\n",
       "   'This is an introductory review on the eleven-dimensional description of the\\nBPS bound states of type II superstring theories, and on the role of\\nsupermembranes in M-theory. The first part describes classical solutions of 11d\\nsupergravity which upon dimensional reduction and T-dualities give bound states\\nof NS-NS and R-R p-branes of type IIA and IIB string theories. In some cases\\n(e.g. (q_1,q_2) string bound states of type IIB string theory), these\\nnon-perturbative objects admit a simple eleven-dimensional description in terms\\nof a fundamental 2-brane. The BPS excitations of such 2-brane are calculated\\nand shown to exactly match the mass spectrum for the BPS (q_1,q_2) string bound\\nstates. Different 11d representations of the same bound state can be used to\\nprovide inequivalent (T-dual) descriptions of the oscillating BPS states. This\\npermits to test T-duality beyond perturbation theory and, in certain cases, to\\nevade membrane instabilities by going to a stable T-dual representation. We\\nfinally summarize the results indicating in what regions of the modular\\nparameter space a supermembrane description for M-theory on R^9 x T^2 seems to\\nbe adequate.',\n",
       "   'Actions for branes, with or without worldsurface gauge fields, are discussed\\nin a unified framework. A simple algorithm is given for constructing the\\ncomponent Green-Schwarz actions. Superspace actions are also discussed. Three\\nexamples are given to illustrate the general procedure: the membrane in D=11\\nand the D2-brane, which both have on-shell worldsurface supermultiplets, and\\nthe membrane in D=4, which has an off-shell multiplet.',\n",
       "   'It is argued that the type IIA 10-dimensional superstring theory is actually a\\ncompactified 11-dimensional supermembrane theory in which the fundamental\\nsupermembrane is identified with the the solitonic membrane of 11-dimensional\\nsupergravity. The charged extreme black holes of the 10-dimensional type IIA\\nstring theory are interpreted as the Kaluza-Klein modes of 11-dimensional\\nsupergravity and the dual sixbranes as the analogue of Kaluza-Klein monopoles.\\nAll other p-brane solutions of the type IIA superstring theory are derived from\\nthe 11-dimensional membrane and its magnetic dual fivebrane soliton.',\n",
       "   'In a recent paper Townsend suggested to associate to the D=11 solitonic\\nmembrane of N=1 supergravity a certain thickness, and then to identify this\\nmembrane with the fundamental supermembrane. By integrating out the 8\\ntransverse dimensions of the \"thick\" solitonic membrane, we show that the\\nresulting world-volume action indeed contains all the usual supermembrane\\nterms, as well as background curvature terms and extrinsic curvature terms,\\nwhich are believed to render the membrane spectrum discrete. We also outline\\nthe analog derivation for the \"thick\" D=10 solitonic string solution of N=IIA\\nsupergravity. The resulting world-sheet action contains the usual type IIA\\nsuperstring terms, as well as extra terms whose presence can be interpreted as\\na rescaling of the background metric, thus preserving kappa-symmetry and\\nconformal invariance.']],\n",
       " 'uris': None,\n",
       " 'data': None,\n",
       " 'metadatas': [[None, None, None, None, None, None, None, None, None, None]],\n",
       " 'distances': [[0.0,\n",
       "   69.00413513183594,\n",
       "   74.01124572753906,\n",
       "   75.58718872070312,\n",
       "   75.66817474365234,\n",
       "   76.28169250488281,\n",
       "   80.51426696777344,\n",
       "   81.48136901855469,\n",
       "   82.40336608886719,\n",
       "   82.64444732666016]],\n",
       " 'included': [<IncludeEnum.distances: 'distances'>,\n",
       "  <IncludeEnum.documents: 'documents'>,\n",
       "  <IncludeEnum.metadatas: 'metadatas'>]}"
      ]
     },
     "execution_count": 24,
     "metadata": {},
     "output_type": "execute_result"
    }
   ],
   "source": [
    "results"
   ]
  }
 ],
 "metadata": {
  "kernelspec": {
   "display_name": "env",
   "language": "python",
   "name": "python3"
  },
  "language_info": {
   "codemirror_mode": {
    "name": "ipython",
    "version": 3
   },
   "file_extension": ".py",
   "mimetype": "text/x-python",
   "name": "python",
   "nbconvert_exporter": "python",
   "pygments_lexer": "ipython3",
   "version": "3.12.5"
  }
 },
 "nbformat": 4,
 "nbformat_minor": 2
}
