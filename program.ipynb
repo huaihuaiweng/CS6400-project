{
 "cells": [
  {
   "cell_type": "code",
   "execution_count": 21,
   "id": "2052a4b5-3afb-4b24-9068-839c8bc4f3f8",
   "metadata": {},
   "outputs": [],
   "source": [
    "import os    \n",
    "import pandas as pd\n",
    "import ollama\n",
    "import chromadb\n",
    "import re\n",
    "import sqlite3\n",
    "import random\n",
    "import matplotlib.pyplot as plt"
   ]
  },
  {
   "cell_type": "code",
   "execution_count": 22,
   "id": "b24d1e48",
   "metadata": {},
   "outputs": [],
   "source": [
    "client = chromadb.PersistentClient(path=\"full_data/\")"
   ]
  },
  {
   "cell_type": "code",
   "execution_count": null,
   "id": "df7efb03-da6b-46a8-a456-cd9be6456dc2",
   "metadata": {},
   "outputs": [],
   "source": [
    "def retrieveID(paper_name, cursor):\n",
    "    connection = sqlite3.connect(\"papers.db\")\n",
    "    cursor = connection.cursor()\n",
    "\n",
    "    query = \"\"\"\n",
    "    SELECT paper_id FROM papers\n",
    "    WHERE title = ? and authors is not null and abstract is not null\n",
    "    Limit 1\n",
    "    \"\"\"\n",
    "    cursor.execute(query, (paper_name,))\n",
    "    results = cursor.fetchall()\n",
    "    \n",
    "    return(results[0][0])\n",
    "\n"
   ]
  },
  {
   "cell_type": "code",
   "execution_count": 24,
   "id": "a5d13a5e",
   "metadata": {},
   "outputs": [],
   "source": [
    "def retrieveID_batch(paper_names, cursor):\n",
    "\n",
    "    placeholders = ','.join(['?' for _ in paper_names])\n",
    "    \n",
    "    query = f\"\"\"\n",
    "    SELECT title, paper_id FROM papers\n",
    "    WHERE title IN ({placeholders}) and authors is not null and abstract is not null\n",
    "    \"\"\"\n",
    "\n",
    "    cursor.execute(query, paper_names)\n",
    "    results = cursor.fetchall()\n",
    "\n",
    "    mp = {result[0]: result[1] for result in results}\n",
    "\n",
    "    ids_list = [mp[name] for name in paper_names]\n",
    "\n",
    "    return ids_list\n"
   ]
  },
  {
   "cell_type": "code",
   "execution_count": 25,
   "id": "b45ed190-b415-4df3-9176-498cba9ead9e",
   "metadata": {},
   "outputs": [],
   "source": [
    "def get_similar_abstract(paper_id, cursor, limit=30):\n",
    "\n",
    "    query = \"\"\"\n",
    "    SELECT abstract FROM papers\n",
    "    WHERE paper_id = ?\n",
    "    Limit 1\n",
    "    \"\"\"\n",
    "    cursor.execute(query, (paper_id,))\n",
    "    results = cursor.fetchall()\n",
    "    abstract = results[0][0]\n",
    "    if abstract is None:\n",
    "      print(paper_id)\n",
    "    collection = client.get_or_create_collection(name=\"docs\")\n",
    "    \n",
    "    response = ollama.embed(\n",
    "      input=[abstract],\n",
    "      model=\"mxbai-embed-large\"\n",
    "    )\n",
    "    results = collection.query(\n",
    "      query_embeddings=response[\"embeddings\"],\n",
    "      n_results=limit\n",
    "    )\n",
    "\n",
    "    data = results['ids'][0]\n",
    "    return(data)"
   ]
  },
  {
   "cell_type": "code",
   "execution_count": null,
   "id": "b1b1bdca",
   "metadata": {},
   "outputs": [],
   "source": [
    "def get_similar_abstract_batch(paper_ids, cursor, limit=30):\n",
    "    paper_ids_str = str(paper_ids).replace('[', '(').replace(']', ')')\n",
    "    query = f\"\"\"\n",
    "    SELECT paper_id,abstract FROM papers\n",
    "    WHERE paper_id IN {paper_ids_str}\n",
    "    \"\"\"\n",
    "    cursor.execute(query)\n",
    "    results = cursor.fetchall()\n",
    "    mp = {}\n",
    "    for result in results:\n",
    "        mp[result[0]] = result[1]\n",
    "    abs_list = []\n",
    "    for id_ in paper_ids:\n",
    "      abs_list.append(mp[id_])\n",
    "      if mp[id_] is None:\n",
    "        print(id_)\n",
    "\n",
    "    collection = client.get_or_create_collection(name=\"docs\")\n",
    "    \n",
    "    response = ollama.embed(\n",
    "      input=abs_list,\n",
    "      model=\"mxbai-embed-large\"\n",
    "    )\n",
    "    results = collection.query(\n",
    "      query_embeddings=response[\"embeddings\"],\n",
    "      n_results=limit\n",
    "    )\n",
    "    data = results['ids']\n",
    "    return data"
   ]
  },
  {
   "cell_type": "code",
   "execution_count": 27,
   "id": "952bb788-0030-4505-8c49-d501823716dd",
   "metadata": {},
   "outputs": [],
   "source": [
    "def get_similar_authors(paper_id, cursor,limit=30):\n",
    "\n",
    "    query = \"\"\"\n",
    "    SELECT authors FROM papers\n",
    "    WHERE paper_id = ?\n",
    "    Limit 1\n",
    "    \"\"\"\n",
    "    cursor.execute(query, (paper_id,))\n",
    "    results = cursor.fetchall()\n",
    "    author = results[0][0]\n",
    "    \n",
    "    collection = client.get_or_create_collection(name=\"authors\")\n",
    "    if author is None:\n",
    "      print(paper_id)\n",
    "    response = ollama.embed(\n",
    "      input=author,\n",
    "      model=\"mxbai-embed-large\"\n",
    "    )\n",
    "    results = collection.query(\n",
    "      query_embeddings=response[\"embeddings\"],\n",
    "      n_results=limit\n",
    "    )\n",
    "\n",
    "    data = results['ids'][0]\n",
    "    return(data)"
   ]
  },
  {
   "cell_type": "code",
   "execution_count": null,
   "id": "e4fffd36",
   "metadata": {},
   "outputs": [],
   "source": [
    "def get_similar_authors_batch(paper_ids, cursor,limit=30):\n",
    "    paper_ids_str = str(paper_ids).replace('[', '(').replace(']', ')')\n",
    "    query = f\"\"\"\n",
    "    SELECT paper_id,authors FROM papers\n",
    "    WHERE paper_id IN {paper_ids_str}\n",
    "    \"\"\"\n",
    "    cursor.execute(query)\n",
    "    results = cursor.fetchall()\n",
    "    mp = {}\n",
    "    for result in results:\n",
    "        mp[result[0]] = result[1]\n",
    "    author_list = []\n",
    "    for id_ in paper_ids:\n",
    "      author_list.append(mp[id_])\n",
    "      if mp[id_] is None:\n",
    "        print(id_)\n",
    "\n",
    "    \n",
    "    collection = client.get_or_create_collection(name=\"authors\")\n",
    "    \n",
    "    response = ollama.embed(\n",
    "      input=author_list,\n",
    "      model=\"mxbai-embed-large\"\n",
    "    )\n",
    "    results = collection.query(\n",
    "      query_embeddings=response[\"embeddings\"],\n",
    "      n_results=limit\n",
    "    )\n",
    "\n",
    "    data = results['ids']\n",
    "    return data"
   ]
  },
  {
   "cell_type": "code",
   "execution_count": 43,
   "id": "1bb82bfc-3a6a-4348-b830-7b9fa61de68c",
   "metadata": {},
   "outputs": [],
   "source": [
    "def find_co_citations(paper_id, cursor, limit = 30):\n",
    "    query = \"\"\"\n",
    "    SELECT \n",
    "        CASE \n",
    "            WHEN paper_1_id = ? THEN paper_2_id\n",
    "            ELSE paper_1_id\n",
    "        END AS co_cited_paper_id,\n",
    "        co_citation_count,\n",
    "        pd.publication_date\n",
    "    FROM co_citations\n",
    "    JOIN paper_dates pd \n",
    "        ON pd.paper_id = CASE \n",
    "            WHEN paper_1_id = ? THEN paper_2_id\n",
    "            ELSE paper_1_id\n",
    "        END\n",
    "    WHERE paper_1_id = ? OR paper_2_id = ?\n",
    "    ORDER BY co_citation_count DESC, \n",
    "             pd.publication_date DESC\n",
    "    LIMIT ?\n",
    "    \"\"\"\n",
    "    cursor.execute(query, (paper_id, paper_id, paper_id, paper_id, limit))\n",
    "    top_co_citations = cursor.fetchall()\n",
    "    paper_id_list = [x[0] for x in top_co_citations]\n",
    "    return paper_id_list\n"
   ]
  },
  {
   "cell_type": "code",
   "execution_count": 44,
   "id": "1ec0554c-c90c-4cb7-9bda-bfe57faf0248",
   "metadata": {},
   "outputs": [],
   "source": [
    "def filter_recommendation(paper_ids, cursor):\n",
    "    paper_ids = str(paper_ids).replace('[', '(').replace(']', ')')\n",
    "    query = f\"\"\"\n",
    "    SELECT paper_id  from papers\n",
    "    WHERE paper_id in {paper_ids}\n",
    "    ORDER BY citation_count DESC, submitted_date DESC\n",
    "    LIMIT 10\n",
    "    \"\"\"\n",
    "    cursor.execute(query)\n",
    "    retList = cursor.fetchall()\n",
    "    retList =[x[0] for x in retList]\n",
    "    return retList"
   ]
  },
  {
   "cell_type": "code",
   "execution_count": 45,
   "id": "dfaabaab-ad78-4a64-af36-6c9576b999c8",
   "metadata": {},
   "outputs": [],
   "source": [
    "def reccPaper(paper_name, include_abs=True, include_auth=True, include_cite=True):\n",
    "    connection = sqlite3.connect(\"papers.db\")\n",
    "    cursor = connection.cursor()\n",
    "    paper_id = retrieveID(paper_name, cursor)\n",
    "    \n",
    "    \n",
    "    combined_list = []\n",
    "    if include_abs:\n",
    "        abstract_id_list = get_similar_abstract(paper_id, cursor)\n",
    "        combined_list += abstract_id_list\n",
    "    if include_auth:\n",
    "        author_id_list = get_similar_authors(paper_id, cursor)\n",
    "        combined_list += author_id_list\n",
    "\n",
    "    if include_cite:\n",
    "        co_citation_list = find_co_citations(paper_id, cursor)\n",
    "        combined_list += co_citation_list\n",
    "    \n",
    "    combined_list = [str(int(i)) for i in combined_list]\n",
    "    final_recommendation_list = filter_recommendation(combined_list, cursor)\n",
    "    score = evaluate(final_recommendation_list, cursor, paper_id)\n",
    "\n",
    "    connection.commit()\n",
    "    cursor.close()\n",
    "    connection.close()\n",
    "    \n",
    "    return final_recommendation_list, score"
   ]
  },
  {
   "cell_type": "code",
   "execution_count": null,
   "id": "6de8e47f",
   "metadata": {},
   "outputs": [],
   "source": [
    "def reccPaper_batch(paper_names):\n",
    "    connection = sqlite3.connect(\"papers.db\")\n",
    "    cursor = connection.cursor()\n",
    "\n",
    "    paper_ids = retrieveID_batch(paper_names, cursor)\n",
    "    \n",
    "    abstract_id_list = get_similar_abstract_batch(paper_ids, cursor)\n",
    "    \n",
    "    author_id_list = get_similar_authors_batch(paper_ids, cursor)\n",
    "\n",
    "    \n",
    "    co_citation_list = []\n",
    "    for paper_id in paper_ids:\n",
    "        co_citation_list.append(find_co_citations(paper_id, cursor))\n",
    "    \n",
    "\n",
    "    ans = []\n",
    "    for i in range(len(abstract_id_list)):\n",
    "        combined_list = abstract_id_list[i] + author_id_list[i] + co_citation_list[i]\n",
    "        combined_list = [str(int(i)) for i in combined_list]\n",
    "\n",
    "    \n",
    "        final_recommendation_list = filter_recommendation(combined_list, cursor)\n",
    "        score = evaluate(final_recommendation_list, cursor, paper_ids[i])\n",
    "        ans.append((final_recommendation_list,score))\n",
    "    connection.commit()\n",
    "    cursor.close()\n",
    "    connection.close()\n",
    "    \n",
    "    return ans"
   ]
  },
  {
   "cell_type": "code",
   "execution_count": 47,
   "id": "d867f406",
   "metadata": {},
   "outputs": [],
   "source": [
    "def evaluate(paper_ids, cursor, input_paper):\n",
    "    paper_ids = str(paper_ids).replace('[', '(').replace(']', ')')\n",
    "    query = f\"\"\"\n",
    "    SELECT count(*)\n",
    "    from papers p, citations c\n",
    "    WHERE p.paper_id in {paper_ids}\n",
    "    AND ((from_paper_id = p.paper_id AND to_paper_id = {input_paper}) OR (from_paper_id = {input_paper} AND to_paper_id = p.paper_id)) \n",
    "    \"\"\"\n",
    "    cursor.execute(query)\n",
    "    retList = cursor.fetchall()\n",
    "    cnt = retList[0][0]\n",
    "    return cnt"
   ]
  },
  {
   "cell_type": "code",
   "execution_count": 48,
   "id": "6378c790",
   "metadata": {},
   "outputs": [],
   "source": [
    "def evaluate_multiple(paper_ids, cursor, input_papers):\n",
    "    paper_ids = str(paper_ids).replace('[', '(').replace(']', ')')\n",
    "    input_papers = str(input_papers).replace('[', '(').replace(']', ')')\n",
    "    query = f\"\"\"\n",
    "    SELECT count(*)\n",
    "    from papers p, citations c\n",
    "    WHERE p.paper_id in {paper_ids}\n",
    "    AND ((from_paper_id = p.paper_id AND to_paper_id in {input_papers}) OR (from_paper_id in {input_papers} AND to_paper_id = p.paper_id)) \n",
    "    \"\"\"\n",
    "    cursor.execute(query)\n",
    "    retList = cursor.fetchall()\n",
    "    cnt = retList[0][0]\n",
    "    return cnt"
   ]
  },
  {
   "cell_type": "code",
   "execution_count": 49,
   "id": "b97d4be5",
   "metadata": {},
   "outputs": [],
   "source": [
    "def combine_multiple(paper_list):\n",
    "    final_results = {}\n",
    "    for paper in paper_list:\n",
    "        results = reccPaper(paper)\n",
    "        for rec in results:\n",
    "            if rec not in final_results:\n",
    "                final_results[rec] = 0\n",
    "            final_results[rec] += 1\n",
    "    \n",
    "    ls = []\n",
    "    for rec in final_results:\n",
    "        ls.append((final_results[rec],rec))\n",
    "    \n",
    "    ls.sort()\n",
    "    return ls[-10:]\n",
    "\n",
    "\n"
   ]
  },
  {
   "cell_type": "markdown",
   "id": "00b0dfb3",
   "metadata": {},
   "source": [
    "Evaluation"
   ]
  },
  {
   "cell_type": "code",
   "execution_count": 50,
   "id": "0e937eb3",
   "metadata": {},
   "outputs": [],
   "source": [
    "connection = sqlite3.connect(\"papers.db\")\n",
    "cursor = connection.cursor()\n",
    "\n",
    "query = 'select title from papers where authors is not null and abstract is not null'\n",
    "cursor.execute(query)\n",
    "titles = [i[0] for i in cursor.fetchall()]"
   ]
  },
  {
   "cell_type": "code",
   "execution_count": 51,
   "id": "dc145b7c",
   "metadata": {},
   "outputs": [
    {
     "data": {
      "text/plain": [
       "[('9703159',\n",
       "  'Dynamical Supersymmetry Breaking',\n",
       "  None,\n",
       "  'Brief review, 15 pages, LaTeX',\n",
       "  None,\n",
       "  'Mod.Phys.Lett. A12 (1997) 737-750',\n",
       "  'We review mechanisms of dynamical supersymmetry breaking. Several\\nobservations that narrow the search for possible models of dynamical\\nsupersymmetry breaking are summarized. These observations include the necessary\\nand sufficient conditions for supersymmetry breaking. The two conditions are\\nbased on non-rigorous arguments, and we show examples where they are too\\nrestrictive. Dynamical effects present in models with product gauge groups are\\ngiven special attention.',\n",
       "  5,\n",
       "  '1992-04-08'),\n",
       " ('9907225',\n",
       "  'Dynamical Supersymmetry Breaking',\n",
       "  'Yael Shadmi and Yuri Shirman',\n",
       "  '113 pages, Revtex. Minor changes, references added and corrected. To',\n",
       "  None,\n",
       "  'Rev.Mod.Phys. 72 (2000) 25-64',\n",
       "  'Supersymmetry is one of the most plausible and theoretically motivated\\nframeworks for extending the Standard Model. However, any supersymmetry in\\nNature must be a broken symmetry. Dynamical supersymmetry breaking (DSB) is an\\nattractive idea for incorporating supersymmetry into a successful description\\nof Nature. The study of DSB has recently enjoyed dramatic progress, fueled by\\nadvances in our understanding of the dynamics of supersymmetric field theories.\\nThese advances have allowed for direct analysis of DSB in strongly coupled\\ntheories, and for the discovery of new DSB theories, some of which contradict\\nearly criteria for DSB. We review these criteria, emphasizing recently\\ndiscovered exceptions. We also describe, through many examples, various\\ntechniques for directly establishing DSB by studying the infrared theory,\\nincluding both older techniques in regions of weak coupling, and new techniques\\nin regions of strong coupling. Finally, we present a list of representative DSB\\nmodels, their main properties, and the relations between them.',\n",
       "  6,\n",
       "  '1992-04-08'),\n",
       " ('9803107',\n",
       "  'Dynamical Supersymmetry Breaking',\n",
       "  'Erich Poppitz and Sandip P. Trivedi',\n",
       "  '44 pages, Latex, 2 Figures',\n",
       "  None,\n",
       "  'Ann.Rev.Nucl.Part.Sci. 48 (1998) 307-350',\n",
       "  'Dynamical supersymmetry breaking is a fascinating theoretical problem. It is\\nalso of phenomenological significance. A better understanding of this\\nphenomenon can help in model building, which in turn is useful in guiding the\\nsearch for supersymmetry. In this article, we review the recent developments in\\nthe field. We discuss a few examples, which allow us to illustrate the main\\nideas in the subject. In the process, we also show how the techniques of\\nholomorphy and duality come into play. Towards the end we indicate how these\\ndevelopments have helped in the study of gauge mediated supersymmetry breaking.\\nThe review is intended for someone with a prior knowledge of supersymmetry who\\nwants to find out about the recent progress in this field.',\n",
       "  9,\n",
       "  '1992-04-08')]"
      ]
     },
     "execution_count": 51,
     "metadata": {},
     "output_type": "execute_result"
    }
   ],
   "source": [
    "query = 'select * from papers where title=\\'Dynamical Supersymmetry Breaking\\''\n",
    "cursor.execute(query)\n",
    "cursor.fetchall()"
   ]
  },
  {
   "cell_type": "code",
   "execution_count": 53,
   "id": "c92922e3",
   "metadata": {},
   "outputs": [],
   "source": [
    "random.seed(42)\n",
    "\n",
    "test = random.sample(titles, 10)\n"
   ]
  },
  {
   "cell_type": "markdown",
   "id": "2914406c",
   "metadata": {},
   "source": [
    "Precision Graphs"
   ]
  },
  {
   "cell_type": "code",
   "execution_count": 54,
   "id": "d92825ac",
   "metadata": {},
   "outputs": [],
   "source": [
    "prec = []\n",
    "for title in test:\n",
    "    res = reccPaper(title)\n",
    "    prec.append(res[1]/len(res[0]))"
   ]
  },
  {
   "cell_type": "code",
   "execution_count": 55,
   "id": "3ea7e807",
   "metadata": {},
   "outputs": [
    {
     "data": {
      "text/plain": [
       "(array([8., 0., 0., 0., 0., 1., 0., 0., 0., 1.]),\n",
       " array([0.  , 0.04, 0.08, 0.12, 0.16, 0.2 , 0.24, 0.28, 0.32, 0.36, 0.4 ]),\n",
       " <BarContainer object of 10 artists>)"
      ]
     },
     "execution_count": 55,
     "metadata": {},
     "output_type": "execute_result"
    },
    {
     "data": {
      "image/png": "[encoded data removed]",
      "text/plain": [
       "<Figure size 640x480 with 1 Axes>"
      ]
     },
     "metadata": {},
     "output_type": "display_data"
    }
   ],
   "source": [
    "import matplotlib.pyplot as plt\n",
    "plt.hist(prec,bins=10)"
   ]
  },
  {
   "cell_type": "markdown",
   "id": "5e572d9d",
   "metadata": {},
   "source": [
    "Testing precision by different components (abstract, author, co-citations)"
   ]
  },
  {
   "cell_type": "code",
   "execution_count": 56,
   "id": "eea62582",
   "metadata": {},
   "outputs": [],
   "source": [
    "import matplotlib.pyplot as plt"
   ]
  },
  {
   "cell_type": "code",
   "execution_count": 57,
   "id": "434c21f0",
   "metadata": {},
   "outputs": [
    {
     "data": {
      "text/plain": [
       "(array([6., 0., 2., 0., 0., 1., 0., 0., 0., 1.]),\n",
       " array([0.  , 0.05, 0.1 , 0.15, 0.2 , 0.25, 0.3 , 0.35, 0.4 , 0.45, 0.5 ]),\n",
       " <BarContainer object of 10 artists>)"
      ]
     },
     "execution_count": 57,
     "metadata": {},
     "output_type": "execute_result"
    },
    {
     "data": {
      "image/png": "[encoded data removed]",
      "text/plain": [
       "<Figure size 640x480 with 1 Axes>"
      ]
     },
     "metadata": {},
     "output_type": "display_data"
    }
   ],
   "source": [
    "prec = []\n",
    "for title in test:\n",
    "    res = reccPaper(title, include_auth=False)\n",
    "    prec.append(res[1]/len(res[0]))\n",
    "plt.hist(prec,bins=10)"
   ]
  },
  {
   "cell_type": "code",
   "execution_count": 58,
   "id": "ce8c79a9",
   "metadata": {},
   "outputs": [
    {
     "data": {
      "text/plain": [
       "Text(0.5, 0, 'Precision')"
      ]
     },
     "execution_count": 58,
     "metadata": {},
     "output_type": "execute_result"
    },
    {
     "data": {
      "image/png": "[encoded data removed]",
      "text/plain": [
       "<Figure size 640x480 with 1 Axes>"
      ]
     },
     "metadata": {},
     "output_type": "display_data"
    }
   ],
   "source": [
    "prec = []\n",
    "for title in test:\n",
    "    res = reccPaper(title)\n",
    "    # print(res)\n",
    "    if len(res[0]) == 0:\n",
    "        prec.append(0)\n",
    "    else:\n",
    "        prec.append(res[1]/len(res[0]))\n",
    "plt.hist(prec,bins=10)\n",
    "plt.title(\"Precision\")\n",
    "plt.ylabel(\"Count\")\n",
    "plt.xlabel(\"Precision\")"
   ]
  },
  {
   "cell_type": "code",
   "execution_count": 59,
   "id": "22032bf3",
   "metadata": {},
   "outputs": [
    {
     "data": {
      "text/plain": [
       "Text(0.5, 0, 'Precision')"
      ]
     },
     "execution_count": 59,
     "metadata": {},
     "output_type": "execute_result"
    },
    {
     "data": {
      "image/png": "[encoded data removed]",
      "text/plain": [
       "<Figure size 640x480 with 1 Axes>"
      ]
     },
     "metadata": {},
     "output_type": "display_data"
    }
   ],
   "source": [
    "plt.hist(prec,bins=10)\n",
    "plt.title(\"Precision\")\n",
    "plt.ylabel(\"Count\")\n",
    "plt.xlabel(\"Precision\")"
   ]
  },
  {
   "cell_type": "code",
   "execution_count": 60,
   "id": "eadd19d5",
   "metadata": {},
   "outputs": [
    {
     "data": {
      "text/plain": [
       "Text(0.5, 1.0, 'Histogram of precision')"
      ]
     },
     "execution_count": 60,
     "metadata": {},
     "output_type": "execute_result"
    },
    {
     "data": {
      "image/png": "[encoded data removed]",
      "text/plain": [
       "<Figure size 640x480 with 1 Axes>"
      ]
     },
     "metadata": {},
     "output_type": "display_data"
    }
   ],
   "source": [
    "prec = []\n",
    "for title in test:\n",
    "    res = reccPaper(title, include_abs=False, include_cite=False)\n",
    "    if len(res[0]) == 0:\n",
    "        prec.append(0)\n",
    "    else:\n",
    "        prec.append(res[1]/len(res[0]))\n",
    "plt.hist(prec,bins=10)\n",
    "plt.title(\"Histogram of precision\")"
   ]
  },
  {
   "cell_type": "markdown",
   "id": "d0b611a8",
   "metadata": {},
   "source": [
    "Scaling Graph"
   ]
  },
  {
   "cell_type": "code",
   "execution_count": 61,
   "id": "8d67b687",
   "metadata": {},
   "outputs": [],
   "source": [
    "import time\n",
    "unbatch = []\n",
    "batch = []\n",
    "# input_sizes = [100, 500, 1000, 5000]\n",
    "input_sizes = [1,10]\n",
    "for input_size in input_sizes:\n",
    "    test = random.sample(titles, input_size)\n",
    "    start = time.time()\n",
    "    for i in test:\n",
    "        reccPaper(i)\n",
    "    unbatch.append(time.time()-start)\n",
    "\n",
    "    start = time.time()\n",
    "    reccPaper_batch(test)\n",
    "    batch.append(time.time()-start)   "
   ]
  },
  {
   "cell_type": "code",
   "execution_count": 62,
   "id": "4cb2b5da",
   "metadata": {},
   "outputs": [
    {
     "data": {
      "text/plain": [
       "<matplotlib.legend.Legend at 0x152928320>"
      ]
     },
     "execution_count": 62,
     "metadata": {},
     "output_type": "execute_result"
    },
    {
     "data": {
      "image/png": "[encoded data removed]",
      "text/plain": [
       "<Figure size 640x480 with 1 Axes>"
      ]
     },
     "metadata": {},
     "output_type": "display_data"
    }
   ],
   "source": [
    "plt.plot(input_sizes,unbatch,label='unbatch')\n",
    "plt.plot(input_sizes,batch,label='batch')\n",
    "plt.title(\"Run time for batched vs unbatched\")\n",
    "plt.xlabel(\"Query size\")\n",
    "plt.ylabel(\"Runtime (seconds)\")\n",
    "plt.legend()"
   ]
  }
 ],
 "metadata": {
  "kernelspec": {
   "display_name": "env",
   "language": "python",
   "name": "python3"
  },
  "language_info": {
   "codemirror_mode": {
    "name": "ipython",
    "version": 3
   },
   "file_extension": ".py",
   "mimetype": "text/x-python",
   "name": "python",
   "nbconvert_exporter": "python",
   "pygments_lexer": "ipython3",
   "version": "3.12.5"
  }
 },
 "nbformat": 4,
 "nbformat_minor": 5
}
